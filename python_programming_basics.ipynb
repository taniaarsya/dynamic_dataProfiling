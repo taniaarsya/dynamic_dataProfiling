{
 "cells": [
  {
   "cell_type": "markdown",
   "metadata": {},
   "source": [
    "<div style=\"padding: 60px;\n",
    "  text-align: center;\n",
    "  background: #d4afb9;\n",
    "  color: #003049;\n",
    "  font-size: 20px;\">\n",
    "  <h2>🐍 Python Programming Basics</h2>\n",
    "   <hr>\n",
    "   <h5>🔬 Develop by Dwi Gustin Nurdialit</h5>\n",
    "</div>\n",
    "\n",
    "___"
   ]
  },
  {
   "cell_type": "markdown",
   "metadata": {},
   "source": [
    "**Table of contents**<a id='toc0_'></a>    \n",
    "- [🎯 Training Objectives](#toc1_)    \n",
    "- [Setting-up Project Environment](#toc2_)    \n",
    "- [Python Files](#toc3_)    \n",
    "- [Python Programming Basics](#toc4_)    \n",
    "  - [Variabel](#toc4_1_)    \n",
    "  - [Tipe Data](#toc4_2_)    \n",
    "    - [Integer](#toc4_2_1_)    \n",
    "    - [Float](#toc4_2_2_)    \n",
    "    - [String](#toc4_2_3_)    \n",
    "    - [Boolean](#toc4_2_4_)    \n",
    "  - [Struktur Data](#toc4_3_)    \n",
    "    - [List: Sekumpulan elemen yang dapat diubah dan terurut.](#toc4_3_1_)    \n",
    "    - [Dictionary: Sekumpulan pasangan key-value yang tidak terurut dan dapat diubah.](#toc4_3_2_)    \n",
    "  - [Struktur Kontrol](#toc4_4_)    \n",
    "    - [Kondisi (if, elif, else)](#toc4_4_1_)    \n",
    "    - [Loop (for)](#toc4_4_2_)    \n",
    "  - [Fungsi](#toc4_5_)    \n",
    "  - [Library di Python](#toc4_6_)    \n",
    "    - [Installasi](#toc4_6_1_)    \n",
    "    - [Import](#toc4_6_2_)    \n",
    "    - [Fungsionalitas Library](#toc4_6_3_)    \n",
    "      - [Penggunaan Fungsi, Parameter, Argument](#toc4_6_3_1_)    \n",
    "\n",
    "<!-- vscode-jupyter-toc-config\n",
    "\tnumbering=false\n",
    "\tanchor=true\n",
    "\tflat=false\n",
    "\tminLevel=1\n",
    "\tmaxLevel=6\n",
    "\t/vscode-jupyter-toc-config -->\n",
    "<!-- THIS CELL WILL BE REPLACED ON TOC UPDATE. DO NOT WRITE YOUR TEXT IN THIS CELL -->"
   ]
  },
  {
   "cell_type": "markdown",
   "metadata": {},
   "source": [
    "# <a id='toc1_'></a>[🎯 Training Objectives](#toc0_)\n",
    "\n",
    "\n",
    "Pada materi ini, kita akan mempelajari sintaks dasar Python yang sering digunakan dalam pembuatan dashboard menggunakan Streamlit. Materi ini akan mencakup beberapa topik utama:\n",
    "\n",
    "- Persiapan Environment\n",
    "- Pengantar Python untuk Data Science\n",
    "- Penggunaan lingkungan Jupyter Notebook\n",
    "- Pemahaman dasar pemrograman dalam Python\n",
    "\n",
    "Kita akan membahas bagaimana sintaks-sintaks dasar ini dapat diterapkan secara langsung dalam pengembangan aplikasi dashboard untuk analisis data menggunakan Streamlit.\n"
   ]
  },
  {
   "cell_type": "markdown",
   "metadata": {},
   "source": [
    "# <a id='toc2_'></a>[Setting-up Project Environment](#toc0_)\n",
    "\n",
    "**Cara membuat virtual environment baru:**\n",
    "\n",
    "1. Membuka Terminal di VS code\n",
    "\n",
    "2. Buat environment dengan nama `ENV_NAME`:\n",
    "    ```\n",
    "    conda create -n <ENV_NAME> python=<PYTHON_VERSION>\n",
    "    ```\n",
    "    Contoh: `conda create -n dss_streamlit python=3.10`\n",
    "\n",
    "\n",
    "3. Mengaktifkan (pindah) environment:\n",
    "    ```\n",
    "    conda activate <ENV_NAME>\n",
    "    ```\n",
    "    Contoh: `conda activate dss_streamlit`\n",
    "    \n",
    "\n",
    "4. Cara instalasi package melalui file `requirements.txt`:\n",
    "    ```\n",
    "    pip install -r requirements.txt\n",
    "    ```"
   ]
  },
  {
   "cell_type": "markdown",
   "metadata": {},
   "source": [
    "# <a id='toc3_'></a>[Python Files](#toc0_)\n",
    "\n",
    "Bahasa pemrograman Python memiliki dua jenis tipe file utama, yaitu `.py` dan `.ipynb`. Meskipun keduanya digunakan dalam konteks pengembangan perangkat lunak dan analisis data, keduanya memiliki perbedaan signifikan dalam penggunaan dan fungsi.\n",
    "\n",
    "**Perbedaan antara File .py dan .ipynb:**\n",
    "\n",
    "1. **File .py (Python Script):**\n",
    "   - File `.py` adalah file skrip Python yang berisi kode Python mentah.\n",
    "   - Kode dalam file `.py` dapat dieksekusi secara sekuensial atau diimpor sebagai modul ke dalam proyek yang lebih besar.\n",
    "   - Biasanya digunakan untuk pengembangan aplikasi, modul, atau skrip yang akan dieksekusi secara langsung oleh interpreter Python.\n",
    "\n",
    "2. **File .ipynb (Jupyter Notebook):**\n",
    "   - File `.ipynb` adalah dokumen interaktif untuk menyimpan teks, kode, hasil eksekusi, dan visualisasi.\n",
    "   - Jupyter Notebook menyediakan lingkungan yang kuat untuk menulis dan menjalankan kode Python, serta menambahkan narasi menggunakan Markdown.\n",
    "   - Cocok untuk eksperimen data, presentasi, dan pembelajaran, karena memungkinkan pengguna untuk menjelaskan proses analisis secara terperinci sambil menyertakan visualisasi dan hasil interaktif.\n",
    "\n",
    "**Penggunaan dalam Course ini:**\n",
    "\n",
    "Pada kursus ini, kita akan fokus mempelajari beberapa konsep dasar menggunakan file `.ipynb`:\n",
    "- Menggunakan Jupyter Notebook untuk eksplorasi data dan pembelajaran interaktif.\n",
    "- Memahami cara menjalankan kode, menampilkan hasil, dan menjelaskan proses analisis dengan jelas.\n",
    "\n",
    "Selanjutnya, untuk mengaplikasikan dan mengembangkan dashboard menggunakan Streamlit, kita akan beralih ke penggunaan file `.py`:\n",
    "- Membuat skrip Python yang menggunakan Streamlit untuk menghasilkan dashboard interaktif.\n",
    "- Mengintegrasikan analisis data dan visualisasi yang sudah dipelajari dalam lingkungan yang sesuai untuk aplikasi produk.\n"
   ]
  },
  {
   "cell_type": "markdown",
   "metadata": {},
   "source": [
    "# <a id='toc4_'></a>[Python Programming Basics](#toc0_)"
   ]
  },
  {
   "cell_type": "markdown",
   "metadata": {},
   "source": [
    "## <a id='toc4_1_'></a>[Variabel](#toc0_)\n",
    "\n",
    "Variabel adalah penampung untuk menyimpan data yang dapat berubah. Variabel dapat menyimpan berbagai jenis data seperti angka, teks, dan lainnya.\n"
   ]
  },
  {
   "cell_type": "code",
   "execution_count": 1,
   "metadata": {},
   "outputs": [],
   "source": [
    "# Mendefinisikan variabel\n",
    "x = 10\n",
    "name = \"Alice\"\n",
    "is_active = True"
   ]
  },
  {
   "cell_type": "markdown",
   "metadata": {},
   "source": [
    "Berikut beberapa anjuran dalam memberikan nama variable pada Python:\n",
    "- Menggunakan kombinasi dari huruf kapital (A-Z), huruf nomina (a-z), angka (0-9).\n",
    "- Special character `!, $ , &, dll` tidak dapat digunakan dalam penamaan variabel.\n",
    "- Tidak boleh menggunakan angka di awal.\n",
    "- Tidak boleh menggunakan keyword pada Python\n",
    "- Bersifat case-sensitive sehingga penamaan variable `algoritma`, `ALGORITMA`, dan `Algoritma` adalah 3 variable yang berbeda"
   ]
  },
  {
   "cell_type": "markdown",
   "metadata": {},
   "source": [
    "## <a id='toc4_2_'></a>[Tipe Data](#toc0_)\n",
    "\n",
    "Tipe data dasar dalam Python meliputi:\n",
    "\n",
    "### <a id='toc4_2_1_'></a>[Integer](#toc0_)\n",
    "Representasi angka bulat, seperti 1, 2, 3."
   ]
  },
  {
   "cell_type": "code",
   "execution_count": 2,
   "metadata": {},
   "outputs": [],
   "source": [
    "x = 10         # Integer"
   ]
  },
  {
   "cell_type": "markdown",
   "metadata": {},
   "source": [
    "\n",
    "### <a id='toc4_2_2_'></a>[Float](#toc0_)\n",
    "Representasi angka desimal, seperti 1.5, 2.7."
   ]
  },
  {
   "cell_type": "code",
   "execution_count": 3,
   "metadata": {},
   "outputs": [],
   "source": [
    "y = 3.14       # Float"
   ]
  },
  {
   "cell_type": "markdown",
   "metadata": {},
   "source": [
    "### <a id='toc4_2_3_'></a>[String](#toc0_)\n",
    "\n",
    "String adalah tipe data untuk merepresentasikan teks atau karakter. String ditulis di dalam tanda kutip ganda atau tanda kutip tunggal. seperti \"Hello\"."
   ]
  },
  {
   "cell_type": "code",
   "execution_count": 4,
   "metadata": {},
   "outputs": [],
   "source": [
    "name = \"Algoritma\" # String"
   ]
  },
  {
   "cell_type": "markdown",
   "metadata": {},
   "source": [
    "### <a id='toc4_2_4_'></a>[Boolean](#toc0_)\n",
    "\n",
    "Boolean adalah tipe data yang hanya memiliki dua nilai: True (benar) atau False (salah). Boolean sering digunakan dalam ekspresi logika dan pengambilan keputusan. Contoh sintaks dan contoh penggunaannya:"
   ]
  },
  {
   "cell_type": "code",
   "execution_count": 5,
   "metadata": {},
   "outputs": [],
   "source": [
    "is_valid = True # Boolean"
   ]
  },
  {
   "cell_type": "markdown",
   "metadata": {},
   "source": [
    "\n",
    "\n",
    "\n",
    "\n",
    "\n",
    "\n",
    "\n",
    "Setiap tipe data memiliki peran dan penggunaan yang berbeda dalam pemrograman Python, memungkinkan kita untuk memanipulasi dan menyimpan berbagai jenis informasi sesuai dengan kebutuhan aplikasi kita.\n"
   ]
  },
  {
   "cell_type": "markdown",
   "metadata": {},
   "source": [
    "## <a id='toc4_3_'></a>[Struktur Data](#toc0_)\n",
    "\n",
    "Struktur data digunakan untuk menyimpan beberapa nilai dalam satu variabel.\n",
    "\n",
    "### <a id='toc4_3_1_'></a>[List: Sekumpulan elemen yang dapat diubah dan terurut.](#toc0_)\n",
    "List adalah struktur data yang dapat menyimpan koleksi elemen dalam urutan tertentu. Setiap elemen dalam list dapat diakses menggunakan indeksnya.\n"
   ]
  },
  {
   "cell_type": "code",
   "execution_count": 6,
   "metadata": {},
   "outputs": [],
   "source": [
    "daftar_nama = [\"Alice\", \"Bob\", \"Charlie\"]"
   ]
  },
  {
   "cell_type": "markdown",
   "metadata": {},
   "source": [
    "- `x[i]` : mengakses elemen ke-i dari x"
   ]
  },
  {
   "cell_type": "markdown",
   "metadata": {},
   "source": [
    "\n",
    "### <a id='toc4_3_2_'></a>[Dictionary: Sekumpulan pasangan key-value yang tidak terurut dan dapat diubah.](#toc0_)\n",
    "\n",
    "Dictionary adalah struktur data yang menyimpan data dalam bentuk pasangan key-value. Setiap key harus unik dalam dictionary, dan nilai dapat diakses menggunakan key tersebut. \n",
    "\n"
   ]
  },
  {
   "cell_type": "code",
   "execution_count": 7,
   "metadata": {},
   "outputs": [],
   "source": [
    "# Contoh Dictionary pada Streamlit\n",
    "data_pengguna = {\n",
    "    \"nama\": \"Alice\",\n",
    "    \"umur\": 30,\n",
    "    \"kota\": \"Jakarta\"\n",
    "}"
   ]
  },
  {
   "cell_type": "code",
   "execution_count": 8,
   "metadata": {},
   "outputs": [
    {
     "data": {
      "text/plain": [
       "'Alice'"
      ]
     },
     "execution_count": 8,
     "metadata": {},
     "output_type": "execute_result"
    }
   ],
   "source": [
    "data_pengguna[\"nama\"]"
   ]
  },
  {
   "cell_type": "markdown",
   "metadata": {},
   "source": [
    "## <a id='toc4_4_'></a>[Struktur Kontrol](#toc0_)\n",
    "\n",
    "Struktur kontrol digunakan untuk mengarahkan aliran eksekusi program.\n",
    "\n",
    "### <a id='toc4_4_1_'></a>[Kondisi (if, elif, else)](#toc0_)\n",
    "\n",
    "Kondisi digunakan untuk memeriksa suatu kondisi dan menjalankan blok kode tertentu berdasarkan hasil evaluasi kondisi tersebut.\n",
    "\n",
    "**Contoh Penggunaan Kondisi:**"
   ]
  },
  {
   "cell_type": "code",
   "execution_count": 9,
   "metadata": {},
   "outputs": [],
   "source": [
    "x = 10"
   ]
  },
  {
   "cell_type": "code",
   "execution_count": 10,
   "metadata": {},
   "outputs": [
    {
     "name": "stdout",
     "output_type": "stream",
     "text": [
      "x lebih besar dari 5\n"
     ]
    }
   ],
   "source": [
    "if x > 5:\n",
    "    print(\"x lebih besar dari 5\")\n",
    "elif x == 5:\n",
    "    print(\"x sama dengan 5\")\n",
    "else:\n",
    "    print(\"x lebih kecil dari 5\")"
   ]
  },
  {
   "cell_type": "markdown",
   "metadata": {},
   "source": [
    "### <a id='toc4_4_2_'></a>[Loop (for)](#toc0_)\n",
    "\n",
    "Loop digunakan untuk menjalankan blok kode berulang kali, biasanya untuk mengiterasi melalui sebuah urutan (seperti list atau range).\n",
    "\n",
    "**Contoh Penggunaan Loop (for):**\n",
    "\n"
   ]
  },
  {
   "cell_type": "code",
   "execution_count": 11,
   "metadata": {},
   "outputs": [
    {
     "name": "stdout",
     "output_type": "stream",
     "text": [
      "0\n",
      "1\n",
      "2\n",
      "3\n",
      "4\n"
     ]
    }
   ],
   "source": [
    "# Loop for\n",
    "for i in range(5):\n",
    "    print(i)"
   ]
  },
  {
   "cell_type": "markdown",
   "metadata": {},
   "source": [
    "## <a id='toc4_5_'></a>[Fungsi](#toc0_)\n",
    "\n",
    "Fungsi adalah blok kode yang dapat dipanggil untuk melakukan tugas tertentu. Fungsi memungkinkan untuk mengorganisasi kode secara lebih terstruktur dan memfasilitasi penggunaan ulang kode."
   ]
  },
  {
   "cell_type": "code",
   "execution_count": 12,
   "metadata": {},
   "outputs": [],
   "source": [
    "# Mendefinisikan fungsi\n",
    "def greet(name):\n",
    "    return f\"Hello, {name}!\""
   ]
  },
  {
   "cell_type": "code",
   "execution_count": 13,
   "metadata": {},
   "outputs": [
    {
     "data": {
      "text/plain": [
       "'Hello, Alice!'"
      ]
     },
     "execution_count": 13,
     "metadata": {},
     "output_type": "execute_result"
    }
   ],
   "source": [
    "# Memanggil fungsi\n",
    "greet(\"Alice\")"
   ]
  },
  {
   "cell_type": "markdown",
   "metadata": {},
   "source": [
    "Dalam contoh di atas:\n",
    "- `greet` adalah nama fungsi yang didefinisikan dengan parameter `name`.\n",
    "- Fungsi `greet` mengembalikan pesan salam yang menyapa `name` yang diberikan.\n",
    "- Saat fungsi dipanggil dengan `greet(\"Alice\")`, fungsi akan menghasilkan output \"Hello, Alice!\".\n",
    "\n",
    "Dengan menggunakan fungsi, kita dapat mengorganisasi kode menjadi unit-unit yang lebih kecil dan spesifik, yang dapat dipanggil kembali (reuse) sesuai kebutuhan dalam program kita."
   ]
  },
  {
   "cell_type": "markdown",
   "metadata": {},
   "source": [
    "## <a id='toc4_6_'></a>[Library di Python](#toc0_)\n",
    "\n",
    "### <a id='toc4_6_1_'></a>[Installasi](#toc0_)\n",
    "\n",
    "Untuk menginstal sebuah library di Python, kita dapat menggunakan pip, manajer paket bawaan Python.\n",
    "\n",
    "**Contoh Installasi:**\n",
    "\n",
    "Untuk menginstal library `ydata_profiling`, kita dapat menjalankan perintah berikut di terminal atau command prompt:\n",
    "\n",
    "```\n",
    "pip install ydata-profiling\n",
    "```\n",
    "\n",
    "### <a id='toc4_6_2_'></a>[Import](#toc0_)\n",
    "\n",
    "Setelah menginstal sebuah library, kita perlu mengimpornya ke dalam program Python kita sebelum dapat menggunakannya.\n",
    "\n",
    "Terdapat 2 cara paling umum untuk meng-import library:\n",
    "\n",
    "* Import library dengan statement `import`. Penggunaan fungsi/class menyertakan nama library.\n",
    "\n",
    "```python\n",
    "# cara import library\n",
    "import pandas as pd\n",
    "```\n",
    "\n",
    "* Import fungsi langsung dengan statement `from`. Penggunaan fungsi/class tidak menyertakan nama library.\n",
    "\n",
    "```python\n",
    "# cara import library\n",
    "from ydata_profiling import ProfileReport\n",
    "\n",
    "# cara memanggil function/class\n",
    "report = ProfileReport()\n",
    "\n",
    "```"
   ]
  },
  {
   "cell_type": "markdown",
   "metadata": {},
   "source": [
    "### <a id='toc4_6_3_'></a>[Fungsionalitas Library](#toc0_)\n",
    "\n",
    "Setelah mengimpor library, kita dapat mengakses berbagai fungsionalitas yang disediakan olehnya dan mengintegrasikannya ke dalam program Python.\n",
    "\n",
    "#### <a id='toc4_6_3_1_'></a>[Penggunaan Fungsi, Parameter, Argument](#toc0_)\n",
    "\n",
    "Dalam penggunaan fungsi dari library, kita dapat menyediakan parameter yang diperlukan dengan argument yang sesuai.\n",
    "\n",
    "**Contoh Penggunaan Fungsi:**\n",
    "\n",
    "```python\n",
    "# Memanggil fungsi contoh_fungsi dengan parameter dan argument\n",
    "contoh_fungsi(parameter1=argument1, parameter2=argument2)\n",
    "```\n",
    "\n",
    "Dengan memanfaatkan fungsi dan kemampuan dari library yang telah diimpor, kita dapat membangun aplikasi Python dengan lebih efisien dan efektif sesuai dengan kebutuhan kita."
   ]
  }
 ],
 "metadata": {
  "kernelspec": {
   "display_name": "streamlit",
   "language": "python",
   "name": "python3"
  },
  "language_info": {
   "codemirror_mode": {
    "name": "ipython",
    "version": 3
   },
   "file_extension": ".py",
   "mimetype": "text/x-python",
   "name": "python",
   "nbconvert_exporter": "python",
   "pygments_lexer": "ipython3",
   "version": "3.10.14"
  }
 },
 "nbformat": 4,
 "nbformat_minor": 2
}
